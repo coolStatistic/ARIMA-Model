{
  "nbformat": 4,
  "nbformat_minor": 0,
  "metadata": {
    "colab": {
      "name": "ARIMA.ipynb",
      "provenance": [],
      "collapsed_sections": []
    },
    "kernelspec": {
      "name": "python3",
      "display_name": "Python 3"
    }
  },
  "cells": [
    {
      "cell_type": "code",
      "metadata": {
        "id": "cyJItL9KPrFb",
        "colab": {
          "resources": {
            "http://localhost:8080/nbextensions/google.colab/files.js": {
              "data": "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",
              "ok": true,
              "headers": [
                [
                  "content-type",
                  "application/javascript"
                ]
              ],
              "status": 200,
              "status_text": "OK"
            }
          },
          "base_uri": "https://localhost:8080/",
          "height": 116
        },
        "outputId": "41368c58-ac81-4aed-fdd6-d8de1e475762"
      },
      "source": [
        "from google.colab import files\n",
        "uploaded = files.upload()\n",
        "!unzip df.zip"
      ],
      "execution_count": null,
      "outputs": [
        {
          "output_type": "display_data",
          "data": {
            "text/html": [
              "\n",
              "     <input type=\"file\" id=\"files-c6c60fa7-a79d-4919-8745-39d3fb6329fb\" name=\"files[]\" multiple disabled\n",
              "        style=\"border:none\" />\n",
              "     <output id=\"result-c6c60fa7-a79d-4919-8745-39d3fb6329fb\">\n",
              "      Upload widget is only available when the cell has been executed in the\n",
              "      current browser session. Please rerun this cell to enable.\n",
              "      </output>\n",
              "      <script src=\"/nbextensions/google.colab/files.js\"></script> "
            ],
            "text/plain": [
              "<IPython.core.display.HTML object>"
            ]
          },
          "metadata": {
            "tags": []
          }
        },
        {
          "output_type": "stream",
          "text": [
            "Saving df.zip to df.zip\n",
            "Archive:  df.zip\n",
            "  inflating: df.csv                  \n"
          ],
          "name": "stdout"
        }
      ]
    },
    {
      "cell_type": "code",
      "metadata": {
        "id": "biQmKhWqPyMW",
        "colab": {
          "base_uri": "https://localhost:8080/"
        },
        "outputId": "8d5764d1-e822-4773-849d-53799b48d2a9"
      },
      "source": [
        "import numpy as np\n",
        "import pandas as pd\n",
        "import matplotlib.pyplot as plt\n",
        "import seaborn as sns\n",
        "from sklearn.metrics import mean_squared_error\n",
        "from statsmodels.tsa.stattools import adfuller\n",
        "from statsmodels.graphics.tsaplots import plot_acf,plot_pacf\n",
        "pd.options.mode.chained_assignment = None  # default='warn'"
      ],
      "execution_count": null,
      "outputs": [
        {
          "output_type": "stream",
          "text": [
            "/usr/local/lib/python3.7/dist-packages/statsmodels/tools/_testing.py:19: FutureWarning: pandas.util.testing is deprecated. Use the functions in the public API at pandas.testing instead.\n",
            "  import pandas.util.testing as tm\n"
          ],
          "name": "stderr"
        }
      ]
    },
    {
      "cell_type": "code",
      "metadata": {
        "id": "f2L6_NjBjuFW"
      },
      "source": [
        "import datetime as dt"
      ],
      "execution_count": null,
      "outputs": []
    },
    {
      "cell_type": "code",
      "metadata": {
        "id": "Ifs_2NXSPz3p"
      },
      "source": [
        "df = pd.read_csv('df.csv',parse_dates=True,index_col='date')\n",
        "df = pd.DataFrame(df.groupby(df.index.strftime('%Y-%m')).sum()['amount'])\n",
        "df.columns=['Value']"
      ],
      "execution_count": null,
      "outputs": []
    },
    {
      "cell_type": "code",
      "metadata": {
        "id": "uDoQ3iFQP2Vk",
        "colab": {
          "base_uri": "https://localhost:8080/",
          "height": 455
        },
        "outputId": "9652e8ed-5d95-4253-e782-4f25b576b6dd"
      },
      "source": [
        "df"
      ],
      "execution_count": null,
      "outputs": [
        {
          "output_type": "execute_result",
          "data": {
            "text/html": [
              "<div>\n",
              "<style scoped>\n",
              "    .dataframe tbody tr th:only-of-type {\n",
              "        vertical-align: middle;\n",
              "    }\n",
              "\n",
              "    .dataframe tbody tr th {\n",
              "        vertical-align: top;\n",
              "    }\n",
              "\n",
              "    .dataframe thead th {\n",
              "        text-align: right;\n",
              "    }\n",
              "</style>\n",
              "<table border=\"1\" class=\"dataframe\">\n",
              "  <thead>\n",
              "    <tr style=\"text-align: right;\">\n",
              "      <th></th>\n",
              "      <th>Value</th>\n",
              "    </tr>\n",
              "    <tr>\n",
              "      <th>date</th>\n",
              "      <th></th>\n",
              "    </tr>\n",
              "  </thead>\n",
              "  <tbody>\n",
              "    <tr>\n",
              "      <th>1993-01</th>\n",
              "      <td>7.021576e+05</td>\n",
              "    </tr>\n",
              "    <tr>\n",
              "      <th>1993-02</th>\n",
              "      <td>2.726925e+06</td>\n",
              "    </tr>\n",
              "    <tr>\n",
              "      <th>1993-03</th>\n",
              "      <td>4.730319e+06</td>\n",
              "    </tr>\n",
              "    <tr>\n",
              "      <th>1993-04</th>\n",
              "      <td>7.378368e+06</td>\n",
              "    </tr>\n",
              "    <tr>\n",
              "      <th>1993-05</th>\n",
              "      <td>1.168075e+07</td>\n",
              "    </tr>\n",
              "    <tr>\n",
              "      <th>...</th>\n",
              "      <td>...</td>\n",
              "    </tr>\n",
              "    <tr>\n",
              "      <th>1998-08</th>\n",
              "      <td>1.506393e+08</td>\n",
              "    </tr>\n",
              "    <tr>\n",
              "      <th>1998-09</th>\n",
              "      <td>1.482977e+08</td>\n",
              "    </tr>\n",
              "    <tr>\n",
              "      <th>1998-10</th>\n",
              "      <td>1.518896e+08</td>\n",
              "    </tr>\n",
              "    <tr>\n",
              "      <th>1998-11</th>\n",
              "      <td>1.488421e+08</td>\n",
              "    </tr>\n",
              "    <tr>\n",
              "      <th>1998-12</th>\n",
              "      <td>1.716971e+08</td>\n",
              "    </tr>\n",
              "  </tbody>\n",
              "</table>\n",
              "<p>72 rows × 1 columns</p>\n",
              "</div>"
            ],
            "text/plain": [
              "                Value\n",
              "date                 \n",
              "1993-01  7.021576e+05\n",
              "1993-02  2.726925e+06\n",
              "1993-03  4.730319e+06\n",
              "1993-04  7.378368e+06\n",
              "1993-05  1.168075e+07\n",
              "...               ...\n",
              "1998-08  1.506393e+08\n",
              "1998-09  1.482977e+08\n",
              "1998-10  1.518896e+08\n",
              "1998-11  1.488421e+08\n",
              "1998-12  1.716971e+08\n",
              "\n",
              "[72 rows x 1 columns]"
            ]
          },
          "metadata": {
            "tags": []
          },
          "execution_count": 4
        }
      ]
    },
    {
      "cell_type": "code",
      "metadata": {
        "colab": {
          "base_uri": "https://localhost:8080/"
        },
        "id": "Amfyr9jqZAIo",
        "outputId": "8be1e0b8-1132-4fa0-b47a-c9e39841c1c7"
      },
      "source": [
        "df.shape"
      ],
      "execution_count": null,
      "outputs": [
        {
          "output_type": "execute_result",
          "data": {
            "text/plain": [
              "(72, 1)"
            ]
          },
          "metadata": {
            "tags": []
          },
          "execution_count": 5
        }
      ]
    },
    {
      "cell_type": "markdown",
      "metadata": {
        "id": "XLeda3SzN_xQ"
      },
      "source": [
        "Equation for AR model : <br>\n",
        "![alt text](https://i.stack.imgur.com/cj6yX.png)"
      ]
    },
    {
      "cell_type": "code",
      "metadata": {
        "id": "5aAFRsagP3AE"
      },
      "source": [
        "def AR(p,df):\n",
        "  df_temp = df\n",
        "\n",
        "  #Generating the lagged p terms\n",
        "  for i in range(1,p+1):\n",
        "    df_temp['Shifted_values_%d' % i ] = df_temp['Value'].shift(i)\n",
        "\n",
        "  train_size = (int)(0.8 * df_temp.shape[0])\n",
        "\n",
        "  #Breaking data set into test and training\n",
        "  df_train = pd.DataFrame(df_temp[0:train_size])\n",
        "  df_test = pd.DataFrame(df_temp[train_size:df.shape[0]])\n",
        "  df_train_2 = df_train.dropna()\n",
        "  #X contains the lagged values ,hence we skip the first column\n",
        "  X_train = df_train_2.iloc[:,1:].values.reshape(-1,p)\n",
        "  #Y contains the value,it is the first column\n",
        "  y_train = df_train_2.iloc[:,0].values.reshape(-1,1)\n",
        "  print(f\"\"\"AR({p}) Model\\n\n",
        "        df_train.shape = {df_train.shape}; df_test.shape = {df_test.shape}\\n\n",
        "        X_train.shape = {X_train.shape}; y_train.shape = {y_train.shape}\\n\n",
        "        {X_train.shape[0]} = {df_train.shape[0]} - 1[diff()] - 12[diff(12)] - {p}[p]\\n\n",
        "        X_test.shape = ({df_test.shape[0]}, {df_test.shape[1]-1})\"\"\")\n",
        "\n",
        "  #Running linear regression to generate the coefficents of lagged terms\n",
        "  from sklearn.linear_model import LinearRegression\n",
        "  lr = LinearRegression()\n",
        "  lr.fit(X_train,y_train)\n",
        "\n",
        "  theta  = lr.coef_.T\n",
        "  intercept = lr.intercept_\n",
        "  df_train_2['Predicted_Values'] = X_train.dot(lr.coef_.T) + lr.intercept_\n",
        "  # df_train_2[['Value','Predicted_Values']].plot()\n",
        "\n",
        "  X_test = df_test.iloc[:,1:].values.reshape(-1,p)\n",
        "  df_test['Predicted_Values'] = X_test.dot(lr.coef_.T) + lr.intercept_\n",
        "  # df_test[['Value','Predicted_Values']].plot()\n",
        "\n",
        "  RMSE = np.sqrt(mean_squared_error(df_test['Value'], df_test['Predicted_Values']))\n",
        "\n",
        "  print(\"The RMSE is :\", RMSE,\", Value of p : \",p)\n",
        "  return [df_train_2,df_test,theta,intercept,RMSE]"
      ],
      "execution_count": null,
      "outputs": []
    },
    {
      "cell_type": "code",
      "metadata": {
        "id": "bVWseM0oP5fY"
      },
      "source": [
        "def MA(q,res):\n",
        "\n",
        "  for i in range(1,q+1):\n",
        "    res['Shifted_values_%d' % i ] = res['Residuals'].shift(i)\n",
        "\n",
        "  train_size = (int)(0.8 * res.shape[0])\n",
        "\n",
        "  res_train = pd.DataFrame(res[0:train_size])\n",
        "  res_test = pd.DataFrame(res[train_size:res.shape[0]])\n",
        "\n",
        "  res_train_2 = res_train.dropna()\n",
        "  X_train = res_train_2.iloc[:,1:].values.reshape(-1,q)\n",
        "  y_train = res_train_2.iloc[:,0].values.reshape(-1,1)\n",
        "\n",
        "  print(f\"\"\"MA({q}) Model\\n\n",
        "        res_train.shape = {res_train.shape}; res_test.shape = {res_test.shape}\\n\n",
        "        X_train.shape = {X_train.shape}; y_train.shape = {y_train.shape}\\n\n",
        "        {X_train.shape[0]} = {res_train.shape[0]} - {q}[q]\\n\n",
        "        X_test.shape = ({res_test.shape[0]}, {res_test.shape[1]-1})\"\"\")\n",
        "  \n",
        "  from sklearn.linear_model import LinearRegression\n",
        "  lr = LinearRegression()\n",
        "  lr.fit(X_train,y_train)\n",
        "\n",
        "  theta  = lr.coef_.T\n",
        "  intercept = lr.intercept_\n",
        "  res_train_2['Predicted_Values'] = X_train.dot(lr.coef_.T) + lr.intercept_\n",
        "  # res_train_2[['Residuals','Predicted_Values']].plot()\n",
        "\n",
        "  X_test = res_test.iloc[:,1:].values.reshape(-1,q)\n",
        "  res_test['Predicted_Values'] = X_test.dot(lr.coef_.T) + lr.intercept_\n",
        "  # res_test[['Residuals','Predicted_Values']].plot()\n",
        "\n",
        "  from sklearn.metrics import mean_squared_error\n",
        "  RMSE = np.sqrt(mean_squared_error(res_test['Residuals'], res_test['Predicted_Values']))\n",
        "\n",
        "  print(\"The RMSE is :\", RMSE,\", Value of q : \",q)\n",
        "  return [res_train_2,res_test,theta,intercept,RMSE]\n",
        "\n"
      ],
      "execution_count": null,
      "outputs": []
    },
    {
      "cell_type": "code",
      "metadata": {
        "id": "uovn0ipqREdh"
      },
      "source": [
        "def adf_check(time_series):\n",
        "    \"\"\"\n",
        "    Pass in a time series, returns ADF report\n",
        "    \"\"\"\n",
        "    result = adfuller(time_series)\n",
        "    print('Augmented Dickey-Fuller Test:')\n",
        "    labels = ['ADF Test Statistic','p-value','Number of Lags Used','Number of Observations Used']\n",
        "\n",
        "    for value,label in zip(result,labels):\n",
        "        print(label+' : '+str(value) )\n",
        "    \n",
        "    if result[1] <= 0.05:\n",
        "        print(\"strong evidence against the null hypothesis, reject the null hypothesis. Data has no unit root and is stationary\")\n",
        "    else:\n",
        "        print(\"weak evidence against null hypothesis, time series has a unit root, indicating it is non-stationary \\n\")"
      ],
      "execution_count": null,
      "outputs": []
    },
    {
      "cell_type": "markdown",
      "metadata": {
        "id": "6fM0xj_JQKbo"
      },
      "source": [
        "<h1>\n",
        "We break down the ARIMA Model into 3 steps:\n",
        "\n",
        "1. Making the data stationary by differencing. (I)\n",
        "2. Fitting an AR model. (AR)\n",
        "3. Fitting an MA model on the residuals. (MA)\n",
        "4. Getting Back Original data\n",
        "\n",
        "</h1>"
      ]
    },
    {
      "cell_type": "markdown",
      "metadata": {
        "id": "FNjoBztsQmjA"
      },
      "source": [
        "#Step 1 : Making the data stationary"
      ]
    },
    {
      "cell_type": "markdown",
      "metadata": {
        "id": "ZxyTha0_MXC0"
      },
      "source": [
        "Different techniques can be used to make the data stationary, used log and differencing. The additional diff(12) is remove the seasonality."
      ]
    },
    {
      "cell_type": "markdown",
      "metadata": {
        "id": "GaHuYDQ-E4_l"
      },
      "source": [
        "原始序列不是平稳的"
      ]
    },
    {
      "cell_type": "code",
      "metadata": {
        "colab": {
          "base_uri": "https://localhost:8080/"
        },
        "id": "mB_huAniEo-k",
        "outputId": "bb3fd32b-2e13-43f0-99fb-195b2134366d"
      },
      "source": [
        "adf_check(df.Value.dropna())"
      ],
      "execution_count": null,
      "outputs": [
        {
          "output_type": "stream",
          "text": [
            "Augmented Dickey-Fuller Test:\n",
            "ADF Test Statistic : -1.1080536452267353\n",
            "p-value : 0.7118495413181575\n",
            "Number of Lags Used : 12\n",
            "Number of Observations Used : 59\n",
            "weak evidence against null hypothesis, time series has a unit root, indicating it is non-stationary \n",
            "\n"
          ],
          "name": "stdout"
        }
      ]
    },
    {
      "cell_type": "code",
      "metadata": {
        "colab": {
          "base_uri": "https://localhost:8080/",
          "height": 307
        },
        "id": "eDDg08N5FBhM",
        "outputId": "c66b36be-ee88-4d63-8781-04332dd1ce96"
      },
      "source": [
        "df.plot()"
      ],
      "execution_count": null,
      "outputs": [
        {
          "output_type": "execute_result",
          "data": {
            "text/plain": [
              "<matplotlib.axes._subplots.AxesSubplot at 0x7f48e085e510>"
            ]
          },
          "metadata": {
            "tags": []
          },
          "execution_count": 12
        },
        {
          "output_type": "display_data",
          "data": {
            "image/png": "[encoded data removed]",
            "text/plain": [
              "<Figure size 432x288 with 1 Axes>"
            ]
          },
          "metadata": {
            "tags": [],
            "needs_background": "light"
          }
        }
      ]
    },
    {
      "cell_type": "markdown",
      "metadata": {
        "id": "ib6IgfJaE83G"
      },
      "source": [
        "log和一阶差分后仍然不平稳"
      ]
    },
    {
      "cell_type": "code",
      "metadata": {
        "colab": {
          "base_uri": "https://localhost:8080/"
        },
        "id": "5ihAIernEvH7",
        "outputId": "852ac70a-078f-46be-c050-f8fd5a2a70cc"
      },
      "source": [
        "df_testing = pd.DataFrame(np.log(df.Value).diff())\n",
        "adf_check(df_testing.Value.dropna())"
      ],
      "execution_count": null,
      "outputs": [
        {
          "output_type": "stream",
          "text": [
            "Augmented Dickey-Fuller Test:\n",
            "ADF Test Statistic : -1.2814795547752373\n",
            "p-value : 0.6376022750380745\n",
            "Number of Lags Used : 12\n",
            "Number of Observations Used : 58\n",
            "weak evidence against null hypothesis, time series has a unit root, indicating it is non-stationary \n",
            "\n"
          ],
          "name": "stdout"
        }
      ]
    },
    {
      "cell_type": "code",
      "metadata": {
        "colab": {
          "base_uri": "https://localhost:8080/",
          "height": 296
        },
        "id": "QzWenj15FKLL",
        "outputId": "ec4c7f74-8248-44d7-e2f6-ee0c170a8c96"
      },
      "source": [
        "df_testing.plot()"
      ],
      "execution_count": null,
      "outputs": [
        {
          "output_type": "execute_result",
          "data": {
            "text/plain": [
              "<matplotlib.axes._subplots.AxesSubplot at 0x7f48e0defbd0>"
            ]
          },
          "metadata": {
            "tags": []
          },
          "execution_count": 14
        },
        {
          "output_type": "display_data",
          "data": {
            "image/png": "[encoded data removed]",
            "text/plain": [
              "<Figure size 432x288 with 1 Axes>"
            ]
          },
          "metadata": {
            "tags": [],
            "needs_background": "light"
          }
        }
      ]
    },
    {
      "cell_type": "markdown",
      "metadata": {
        "id": "EWVWAngqFV8p"
      },
      "source": [
        "去除季节性之后是平稳的\n",
        "\n",
        "\n"
      ]
    },
    {
      "cell_type": "code",
      "metadata": {
        "id": "cAcsneN4Qlme",
        "colab": {
          "base_uri": "https://localhost:8080/"
        },
        "outputId": "b4c00522-161d-4073-8f77-392120e0cd55"
      },
      "source": [
        "df_testing = pd.DataFrame(np.log(df.Value).diff().diff(12))\n",
        "adf_check(df_testing.Value.dropna())"
      ],
      "execution_count": null,
      "outputs": [
        {
          "output_type": "stream",
          "text": [
            "Augmented Dickey-Fuller Test:\n",
            "ADF Test Statistic : -5.225226609716361\n",
            "p-value : 7.807176920051058e-06\n",
            "Number of Lags Used : 3\n",
            "Number of Observations Used : 55\n",
            "strong evidence against the null hypothesis, reject the null hypothesis. Data has no unit root and is stationary\n"
          ],
          "name": "stdout"
        }
      ]
    },
    {
      "cell_type": "code",
      "metadata": {
        "colab": {
          "base_uri": "https://localhost:8080/",
          "height": 296
        },
        "id": "L_U-ersoFR0y",
        "outputId": "dc7b4f6a-4cae-4ce8-d3c6-e064cdd1a0ea"
      },
      "source": [
        "df_testing.plot()"
      ],
      "execution_count": null,
      "outputs": [
        {
          "output_type": "execute_result",
          "data": {
            "text/plain": [
              "<matplotlib.axes._subplots.AxesSubplot at 0x7f48e0f3d310>"
            ]
          },
          "metadata": {
            "tags": []
          },
          "execution_count": 16
        },
        {
          "output_type": "display_data",
          "data": {
            "image/png": "[encoded data removed]",
            "text/plain": [
              "<Figure size 432x288 with 1 Axes>"
            ]
          },
          "metadata": {
            "tags": [],
            "needs_background": "light"
          }
        }
      ]
    },
    {
      "cell_type": "code",
      "metadata": {
        "id": "PRz2JCzORp1_",
        "colab": {
          "base_uri": "https://localhost:8080/",
          "height": 545
        },
        "outputId": "57b6499a-a15d-41be-c87f-49ecfad8e8cf"
      },
      "source": [
        "ACF = plot_acf(df_testing.dropna(),lags=50)\n",
        "PACF = plot_pacf(df_testing.dropna(),lags=50)"
      ],
      "execution_count": null,
      "outputs": [
        {
          "output_type": "display_data",
          "data": {
            "image/png": "[encoded data removed]",
            "text/plain": [
              "<Figure size 432x288 with 1 Axes>"
            ]
          },
          "metadata": {
            "tags": [],
            "needs_background": "light"
          }
        },
        {
          "output_type": "display_data",
          "data": {
            "image/png": "[encoded data removed]",
            "text/plain": [
              "<Figure size 432x288 with 1 Axes>"
            ]
          },
          "metadata": {
            "tags": [],
            "needs_background": "light"
          }
        }
      ]
    },
    {
      "cell_type": "markdown",
      "metadata": {
        "id": "uF7YAA-CUdJ5"
      },
      "source": [
        "#Step 2 : Fitting AR Model"
      ]
    },
    {
      "cell_type": "markdown",
      "metadata": {
        "id": "aidxF-s0MxBy"
      },
      "source": [
        "We calculate the error on the test-set for each p, and pick the best one."
      ]
    },
    {
      "cell_type": "code",
      "metadata": {
        "colab": {
          "base_uri": "https://localhost:8080/"
        },
        "id": "YTIEQMSkemg8",
        "outputId": "475246b5-b2bc-4f1e-d27f-cfbae7ffe7f2"
      },
      "source": [
        "df_testing.shape"
      ],
      "execution_count": null,
      "outputs": [
        {
          "output_type": "execute_result",
          "data": {
            "text/plain": [
              "(72, 1)"
            ]
          },
          "metadata": {
            "tags": []
          },
          "execution_count": 23
        }
      ]
    },
    {
      "cell_type": "code",
      "metadata": {
        "colab": {
          "base_uri": "https://localhost:8080/"
        },
        "id": "yKBiAxrEepB7",
        "outputId": "5275e8c1-3be7-419b-d1c6-afad457e31c4"
      },
      "source": [
        "df_testing.dropna().shape"
      ],
      "execution_count": null,
      "outputs": [
        {
          "output_type": "execute_result",
          "data": {
            "text/plain": [
              "(59, 1)"
            ]
          },
          "metadata": {
            "tags": []
          },
          "execution_count": 24
        }
      ]
    },
    {
      "cell_type": "code",
      "metadata": {
        "id": "DHS7S1NHUhDI",
        "colab": {
          "base_uri": "https://localhost:8080/"
        },
        "outputId": "3c8b5233-ed30-47a7-f9de-9ca321db4f38"
      },
      "source": [
        "best_RMSE=100000000000\n",
        "best_p = -1\n",
        "\n",
        "for i in range(1,21):\n",
        "  [df_train,df_test,theta,intercept,RMSE] = AR(i,pd.DataFrame(df_testing.Value))\n",
        "  if(RMSE<best_RMSE):\n",
        "    best_RMSE = RMSE\n",
        "    best_p = i\n",
        "  \n",
        "print(best_p)"
      ],
      "execution_count": null,
      "outputs": [
        {
          "output_type": "stream",
          "text": [
            "AR(1) Model\n",
            "\n",
            "        df_train.shape = (57, 2); df_test.shape = (15, 2)\n",
            "\n",
            "        X_train.shape = (43, 1); y_train.shape = (43, 1)\n",
            "\n",
            "        43 = 57 - 1[diff()] - 12[diff(12)] - 1[p]\n",
            "\n",
            "        X_test.shape = (15, 1)\n",
            "The RMSE is : 0.032388648408077265 , Value of p :  1\n",
            "AR(2) Model\n",
            "\n",
            "        df_train.shape = (57, 3); df_test.shape = (15, 3)\n",
            "\n",
            "        X_train.shape = (42, 2); y_train.shape = (42, 1)\n",
            "\n",
            "        42 = 57 - 1[diff()] - 12[diff(12)] - 2[p]\n",
            "\n",
            "        X_test.shape = (15, 2)\n",
            "The RMSE is : 0.03325009798919134 , Value of p :  2\n",
            "AR(3) Model\n",
            "\n",
            "        df_train.shape = (57, 4); df_test.shape = (15, 4)\n",
            "\n",
            "        X_train.shape = (41, 3); y_train.shape = (41, 1)\n",
            "\n",
            "        41 = 57 - 1[diff()] - 12[diff(12)] - 3[p]\n",
            "\n",
            "        X_test.shape = (15, 3)\n",
            "The RMSE is : 0.029558050939839802 , Value of p :  3\n",
            "AR(4) Model\n",
            "\n",
            "        df_train.shape = (57, 5); df_test.shape = (15, 5)\n",
            "\n",
            "        X_train.shape = (40, 4); y_train.shape = (40, 1)\n",
            "\n",
            "        40 = 57 - 1[diff()] - 12[diff(12)] - 4[p]\n",
            "\n",
            "        X_test.shape = (15, 4)\n",
            "The RMSE is : 0.028285801000846898 , Value of p :  4\n",
            "AR(5) Model\n",
            "\n",
            "        df_train.shape = (57, 6); df_test.shape = (15, 6)\n",
            "\n",
            "        X_train.shape = (39, 5); y_train.shape = (39, 1)\n",
            "\n",
            "        39 = 57 - 1[diff()] - 12[diff(12)] - 5[p]\n",
            "\n",
            "        X_test.shape = (15, 5)\n",
            "The RMSE is : 0.03151488059849384 , Value of p :  5\n",
            "AR(6) Model\n",
            "\n",
            "        df_train.shape = (57, 7); df_test.shape = (15, 7)\n",
            "\n",
            "        X_train.shape = (38, 6); y_train.shape = (38, 1)\n",
            "\n",
            "        38 = 57 - 1[diff()] - 12[diff(12)] - 6[p]\n",
            "\n",
            "        X_test.shape = (15, 6)\n",
            "The RMSE is : 0.0322596083639379 , Value of p :  6\n",
            "AR(7) Model\n",
            "\n",
            "        df_train.shape = (57, 8); df_test.shape = (15, 8)\n",
            "\n",
            "        X_train.shape = (37, 7); y_train.shape = (37, 1)\n",
            "\n",
            "        37 = 57 - 1[diff()] - 12[diff(12)] - 7[p]\n",
            "\n",
            "        X_test.shape = (15, 7)\n",
            "The RMSE is : 0.027590310611580772 , Value of p :  7\n",
            "AR(8) Model\n",
            "\n",
            "        df_train.shape = (57, 9); df_test.shape = (15, 9)\n",
            "\n",
            "        X_train.shape = (36, 8); y_train.shape = (36, 1)\n",
            "\n",
            "        36 = 57 - 1[diff()] - 12[diff(12)] - 8[p]\n",
            "\n",
            "        X_test.shape = (15, 8)\n",
            "The RMSE is : 0.034671315188419 , Value of p :  8\n",
            "AR(9) Model\n",
            "\n",
            "        df_train.shape = (57, 10); df_test.shape = (15, 10)\n",
            "\n",
            "        X_train.shape = (35, 9); y_train.shape = (35, 1)\n",
            "\n",
            "        35 = 57 - 1[diff()] - 12[diff(12)] - 9[p]\n",
            "\n",
            "        X_test.shape = (15, 9)\n",
            "The RMSE is : 0.030740362591167695 , Value of p :  9\n",
            "AR(10) Model\n",
            "\n",
            "        df_train.shape = (57, 11); df_test.shape = (15, 11)\n",
            "\n",
            "        X_train.shape = (34, 10); y_train.shape = (34, 1)\n",
            "\n",
            "        34 = 57 - 1[diff()] - 12[diff(12)] - 10[p]\n",
            "\n",
            "        X_test.shape = (15, 10)\n",
            "The RMSE is : 0.03256948869494694 , Value of p :  10\n",
            "AR(11) Model\n",
            "\n",
            "        df_train.shape = (57, 12); df_test.shape = (15, 12)\n",
            "\n",
            "        X_train.shape = (33, 11); y_train.shape = (33, 1)\n",
            "\n",
            "        33 = 57 - 1[diff()] - 12[diff(12)] - 11[p]\n",
            "\n",
            "        X_test.shape = (15, 11)\n",
            "The RMSE is : 0.031246634780044597 , Value of p :  11\n",
            "AR(12) Model\n",
            "\n",
            "        df_train.shape = (57, 13); df_test.shape = (15, 13)\n",
            "\n",
            "        X_train.shape = (32, 12); y_train.shape = (32, 1)\n",
            "\n",
            "        32 = 57 - 1[diff()] - 12[diff(12)] - 12[p]\n",
            "\n",
            "        X_test.shape = (15, 12)\n",
            "The RMSE is : 0.03567977199974267 , Value of p :  12\n",
            "AR(13) Model\n",
            "\n",
            "        df_train.shape = (57, 14); df_test.shape = (15, 14)\n",
            "\n",
            "        X_train.shape = (31, 13); y_train.shape = (31, 1)\n",
            "\n",
            "        31 = 57 - 1[diff()] - 12[diff(12)] - 13[p]\n",
            "\n",
            "        X_test.shape = (15, 13)\n",
            "The RMSE is : 0.031805101515395943 , Value of p :  13\n",
            "AR(14) Model\n",
            "\n",
            "        df_train.shape = (57, 15); df_test.shape = (15, 15)\n",
            "\n",
            "        X_train.shape = (30, 14); y_train.shape = (30, 1)\n",
            "\n",
            "        30 = 57 - 1[diff()] - 12[diff(12)] - 14[p]\n",
            "\n",
            "        X_test.shape = (15, 14)\n",
            "The RMSE is : 0.03243678373356788 , Value of p :  14\n",
            "AR(15) Model\n",
            "\n",
            "        df_train.shape = (57, 16); df_test.shape = (15, 16)\n",
            "\n",
            "        X_train.shape = (29, 15); y_train.shape = (29, 1)\n",
            "\n",
            "        29 = 57 - 1[diff()] - 12[diff(12)] - 15[p]\n",
            "\n",
            "        X_test.shape = (15, 15)\n",
            "The RMSE is : 0.048006580308367575 , Value of p :  15\n",
            "AR(16) Model\n",
            "\n",
            "        df_train.shape = (57, 17); df_test.shape = (15, 17)\n",
            "\n",
            "        X_train.shape = (28, 16); y_train.shape = (28, 1)\n",
            "\n",
            "        28 = 57 - 1[diff()] - 12[diff(12)] - 16[p]\n",
            "\n",
            "        X_test.shape = (15, 16)\n",
            "The RMSE is : 0.060138095103115206 , Value of p :  16\n",
            "AR(17) Model\n",
            "\n",
            "        df_train.shape = (57, 18); df_test.shape = (15, 18)\n",
            "\n",
            "        X_train.shape = (27, 17); y_train.shape = (27, 1)\n",
            "\n",
            "        27 = 57 - 1[diff()] - 12[diff(12)] - 17[p]\n",
            "\n",
            "        X_test.shape = (15, 17)\n",
            "The RMSE is : 0.05737216043431321 , Value of p :  17\n",
            "AR(18) Model\n",
            "\n",
            "        df_train.shape = (57, 19); df_test.shape = (15, 19)\n",
            "\n",
            "        X_train.shape = (26, 18); y_train.shape = (26, 1)\n",
            "\n",
            "        26 = 57 - 1[diff()] - 12[diff(12)] - 18[p]\n",
            "\n",
            "        X_test.shape = (15, 18)\n",
            "The RMSE is : 0.11567845252209938 , Value of p :  18\n",
            "AR(19) Model\n",
            "\n",
            "        df_train.shape = (57, 20); df_test.shape = (15, 20)\n",
            "\n",
            "        X_train.shape = (25, 19); y_train.shape = (25, 1)\n",
            "\n",
            "        25 = 57 - 1[diff()] - 12[diff(12)] - 19[p]\n",
            "\n",
            "        X_test.shape = (15, 19)\n",
            "The RMSE is : 0.1842163299370899 , Value of p :  19\n",
            "AR(20) Model\n",
            "\n",
            "        df_train.shape = (57, 21); df_test.shape = (15, 21)\n",
            "\n",
            "        X_train.shape = (24, 20); y_train.shape = (24, 1)\n",
            "\n",
            "        24 = 57 - 1[diff()] - 12[diff(12)] - 20[p]\n",
            "\n",
            "        X_test.shape = (15, 20)\n",
            "The RMSE is : 0.13501816458472687 , Value of p :  20\n",
            "7\n"
          ],
          "name": "stdout"
        }
      ]
    },
    {
      "cell_type": "code",
      "metadata": {
        "id": "oojOzVjJUu3A",
        "colab": {
          "base_uri": "https://localhost:8080/"
        },
        "outputId": "dd8bd318-fa55-4160-d1cf-d596810260d5"
      },
      "source": [
        "[df_train,df_test,theta,intercept,RMSE] = AR(best_p,pd.DataFrame(df_testing.Value))"
      ],
      "execution_count": null,
      "outputs": [
        {
          "output_type": "stream",
          "text": [
            "AR(7) Model\n",
            "\n",
            "        df_train.shape = (57, 8); df_test.shape = (15, 8)\n",
            "\n",
            "        X_train.shape = (37, 7); y_train.shape = (37, 1)\n",
            "\n",
            "        37 = 57 - 1[diff()] - 12[diff(12)] - 7[p]\n",
            "\n",
            "        X_test.shape = (15, 7)\n",
            "The RMSE is : 0.027590310611580772 , Value of p :  7\n"
          ],
          "name": "stdout"
        }
      ]
    },
    {
      "cell_type": "code",
      "metadata": {
        "colab": {
          "base_uri": "https://localhost:8080/"
        },
        "id": "iMikfNilkZ5-",
        "outputId": "c58792d2-9d70-4eab-d75c-b126bdc66108"
      },
      "source": [
        "df_train.shape"
      ],
      "execution_count": null,
      "outputs": [
        {
          "output_type": "execute_result",
          "data": {
            "text/plain": [
              "(37, 9)"
            ]
          },
          "metadata": {
            "tags": []
          },
          "execution_count": 61
        }
      ]
    },
    {
      "cell_type": "code",
      "metadata": {
        "colab": {
          "base_uri": "https://localhost:8080/"
        },
        "id": "V2ayv9NFkwxX",
        "outputId": "1cd3b904-61a6-4582-b99e-9ee34be64274"
      },
      "source": [
        "df_test.shape"
      ],
      "execution_count": null,
      "outputs": [
        {
          "output_type": "execute_result",
          "data": {
            "text/plain": [
              "(15, 9)"
            ]
          },
          "metadata": {
            "tags": []
          },
          "execution_count": 62
        }
      ]
    },
    {
      "cell_type": "code",
      "metadata": {
        "id": "sHeygqNmUzTa",
        "colab": {
          "base_uri": "https://localhost:8080/",
          "height": 296
        },
        "outputId": "62601c9d-10d0-46fe-937b-4a40c4762cf7"
      },
      "source": [
        "df_c = pd.concat([df_train,df_test])\n",
        "df_c.index = pd.DatetimeIndex(df_c.index)\n",
        "df_c[['Value','Predicted_Values']].plot()"
      ],
      "execution_count": null,
      "outputs": [
        {
          "output_type": "execute_result",
          "data": {
            "text/plain": [
              "<matplotlib.axes._subplots.AxesSubplot at 0x7f48df7c5c50>"
            ]
          },
          "metadata": {
            "tags": []
          },
          "execution_count": 58
        },
        {
          "output_type": "display_data",
          "data": {
            "image/png": "[encoded data removed]",
            "text/plain": [
              "<Figure size 432x288 with 1 Axes>"
            ]
          },
          "metadata": {
            "tags": [],
            "needs_background": "light"
          }
        }
      ]
    },
    {
      "cell_type": "code",
      "metadata": {
        "colab": {
          "base_uri": "https://localhost:8080/",
          "height": 296
        },
        "id": "u-7We6vwhEZE",
        "outputId": "55350b3e-2182-4058-d46e-df28e1f442f1"
      },
      "source": [
        "test_size = 15\n",
        "df_c[['Value','Predicted_Values']].plot()\n",
        "plt.axvline(df_c.index[-test_size], color='r')"
      ],
      "execution_count": null,
      "outputs": [
        {
          "output_type": "execute_result",
          "data": {
            "text/plain": [
              "<matplotlib.lines.Line2D at 0x7f48df7766d0>"
            ]
          },
          "metadata": {
            "tags": []
          },
          "execution_count": 59
        },
        {
          "output_type": "display_data",
          "data": {
            "image/png": "[encoded data removed]",
            "text/plain": [
              "<Figure size 432x288 with 1 Axes>"
            ]
          },
          "metadata": {
            "tags": [],
            "needs_background": "light"
          }
        }
      ]
    },
    {
      "cell_type": "code",
      "metadata": {
        "colab": {
          "base_uri": "https://localhost:8080/"
        },
        "id": "R1TBmTUek6HW",
        "outputId": "b904f3f1-06f2-47b8-d5e3-de1cd762fa7f"
      },
      "source": [
        "df_c.shape"
      ],
      "execution_count": null,
      "outputs": [
        {
          "output_type": "execute_result",
          "data": {
            "text/plain": [
              "(52, 9)"
            ]
          },
          "metadata": {
            "tags": []
          },
          "execution_count": 63
        }
      ]
    },
    {
      "cell_type": "markdown",
      "metadata": {
        "id": "TdaqKKXEj--q"
      },
      "source": [
        "注意，`df_c`是由`df_train`与`df_test`合并得到的，因为`df_train`是差分后的序列在`dropna`之后得到的序列，所以其长度`52=37+15`, 其中`37 = 57 - 1[diff()] - 12[diff(12)] - 7[p]`"
      ]
    },
    {
      "cell_type": "markdown",
      "metadata": {
        "id": "7OjGxcyhM-qA"
      },
      "source": [
        "Generating the residuals for MA"
      ]
    },
    {
      "cell_type": "code",
      "metadata": {
        "id": "7nDF6F7NVzkb"
      },
      "source": [
        "res = pd.DataFrame()\n",
        "res['Residuals'] = df_c.Value - df_c.Predicted_Values"
      ],
      "execution_count": null,
      "outputs": []
    },
    {
      "cell_type": "code",
      "metadata": {
        "colab": {
          "base_uri": "https://localhost:8080/"
        },
        "id": "jvQlfIMhlqDy",
        "outputId": "4fa4429b-77c0-44d6-bf36-3a056dfe65e9"
      },
      "source": [
        "res.shape"
      ],
      "execution_count": null,
      "outputs": [
        {
          "output_type": "execute_result",
          "data": {
            "text/plain": [
              "(52, 1)"
            ]
          },
          "metadata": {
            "tags": []
          },
          "execution_count": 66
        }
      ]
    },
    {
      "cell_type": "code",
      "metadata": {
        "id": "nKswXGchV9rY",
        "colab": {
          "base_uri": "https://localhost:8080/",
          "height": 237
        },
        "outputId": "7eb8f74c-852b-4553-d4ed-51268425fd7e"
      },
      "source": [
        "res.head()"
      ],
      "execution_count": null,
      "outputs": [
        {
          "output_type": "execute_result",
          "data": {
            "text/html": [
              "<div>\n",
              "<style scoped>\n",
              "    .dataframe tbody tr th:only-of-type {\n",
              "        vertical-align: middle;\n",
              "    }\n",
              "\n",
              "    .dataframe tbody tr th {\n",
              "        vertical-align: top;\n",
              "    }\n",
              "\n",
              "    .dataframe thead th {\n",
              "        text-align: right;\n",
              "    }\n",
              "</style>\n",
              "<table border=\"1\" class=\"dataframe\">\n",
              "  <thead>\n",
              "    <tr style=\"text-align: right;\">\n",
              "      <th></th>\n",
              "      <th>Residuals</th>\n",
              "    </tr>\n",
              "    <tr>\n",
              "      <th>date</th>\n",
              "      <th></th>\n",
              "    </tr>\n",
              "  </thead>\n",
              "  <tbody>\n",
              "    <tr>\n",
              "      <th>1994-09-01</th>\n",
              "      <td>0.009048</td>\n",
              "    </tr>\n",
              "    <tr>\n",
              "      <th>1994-10-01</th>\n",
              "      <td>-0.031686</td>\n",
              "    </tr>\n",
              "    <tr>\n",
              "      <th>1994-11-01</th>\n",
              "      <td>0.022175</td>\n",
              "    </tr>\n",
              "    <tr>\n",
              "      <th>1994-12-01</th>\n",
              "      <td>-0.016185</td>\n",
              "    </tr>\n",
              "    <tr>\n",
              "      <th>1995-01-01</th>\n",
              "      <td>0.029131</td>\n",
              "    </tr>\n",
              "  </tbody>\n",
              "</table>\n",
              "</div>"
            ],
            "text/plain": [
              "            Residuals\n",
              "date                 \n",
              "1994-09-01   0.009048\n",
              "1994-10-01  -0.031686\n",
              "1994-11-01   0.022175\n",
              "1994-12-01  -0.016185\n",
              "1995-01-01   0.029131"
            ]
          },
          "metadata": {
            "tags": []
          },
          "execution_count": 68
        }
      ]
    },
    {
      "cell_type": "code",
      "metadata": {
        "id": "ptxcIcVbWMSf",
        "colab": {
          "base_uri": "https://localhost:8080/",
          "height": 282
        },
        "outputId": "5392e867-a7d3-4cb1-a1c4-04228d866b50"
      },
      "source": [
        "res.plot(kind='kde')"
      ],
      "execution_count": null,
      "outputs": [
        {
          "output_type": "execute_result",
          "data": {
            "text/plain": [
              "<matplotlib.axes._subplots.AxesSubplot at 0x7f48e0578c10>"
            ]
          },
          "metadata": {
            "tags": []
          },
          "execution_count": 69
        },
        {
          "output_type": "display_data",
          "data": {
            "image/png": "[encoded data removed]",
            "text/plain": [
              "<Figure size 432x288 with 1 Axes>"
            ]
          },
          "metadata": {
            "tags": [],
            "needs_background": "light"
          }
        }
      ]
    },
    {
      "cell_type": "markdown",
      "metadata": {
        "id": "wYNmLLLaWCIg"
      },
      "source": [
        "#Step 3 : Fitting MA on Residuals"
      ]
    },
    {
      "cell_type": "code",
      "metadata": {
        "id": "OLhbBV-MWGRO",
        "colab": {
          "base_uri": "https://localhost:8080/"
        },
        "outputId": "931c50a5-fd27-4f4c-b178-5775b8e428cb"
      },
      "source": [
        "best_RMSE=100000000000\n",
        "best_q = -1\n",
        "\n",
        "for i in range(1,13):\n",
        "  [res_train,res_test,theta,intercept,RMSE] = MA(i,pd.DataFrame(res.Residuals))\n",
        "  if(RMSE<best_RMSE):\n",
        "    best_RMSE = RMSE\n",
        "    best_q = i\n",
        "  \n",
        "print(best_q)"
      ],
      "execution_count": null,
      "outputs": [
        {
          "output_type": "stream",
          "text": [
            "MA(1) Model\n",
            "\n",
            "        res_train.shape = (41, 2); res_test.shape = (11, 2)\n",
            "\n",
            "        X_train.shape = (40, 1); y_train.shape = (40, 1)\n",
            "\n",
            "        40 = 41 - 1[q]\n",
            "\n",
            "        X_test.shape = (11, 1)\n",
            "The RMSE is : 0.031984021565677506 , Value of q :  1\n",
            "MA(2) Model\n",
            "\n",
            "        res_train.shape = (41, 3); res_test.shape = (11, 3)\n",
            "\n",
            "        X_train.shape = (39, 2); y_train.shape = (39, 1)\n",
            "\n",
            "        39 = 41 - 2[q]\n",
            "\n",
            "        X_test.shape = (11, 2)\n",
            "The RMSE is : 0.032989430227765876 , Value of q :  2\n",
            "MA(3) Model\n",
            "\n",
            "        res_train.shape = (41, 4); res_test.shape = (11, 4)\n",
            "\n",
            "        X_train.shape = (38, 3); y_train.shape = (38, 1)\n",
            "\n",
            "        38 = 41 - 3[q]\n",
            "\n",
            "        X_test.shape = (11, 3)\n",
            "The RMSE is : 0.03408338236742454 , Value of q :  3\n",
            "MA(4) Model\n",
            "\n",
            "        res_train.shape = (41, 5); res_test.shape = (11, 5)\n",
            "\n",
            "        X_train.shape = (37, 4); y_train.shape = (37, 1)\n",
            "\n",
            "        37 = 41 - 4[q]\n",
            "\n",
            "        X_test.shape = (11, 4)\n",
            "The RMSE is : 0.03450430781256752 , Value of q :  4\n",
            "MA(5) Model\n",
            "\n",
            "        res_train.shape = (41, 6); res_test.shape = (11, 6)\n",
            "\n",
            "        X_train.shape = (36, 5); y_train.shape = (36, 1)\n",
            "\n",
            "        36 = 41 - 5[q]\n",
            "\n",
            "        X_test.shape = (11, 5)\n",
            "The RMSE is : 0.035351319086375566 , Value of q :  5\n",
            "MA(6) Model\n",
            "\n",
            "        res_train.shape = (41, 7); res_test.shape = (11, 7)\n",
            "\n",
            "        X_train.shape = (35, 6); y_train.shape = (35, 1)\n",
            "\n",
            "        35 = 41 - 6[q]\n",
            "\n",
            "        X_test.shape = (11, 6)\n",
            "The RMSE is : 0.035867081911430024 , Value of q :  6\n",
            "MA(7) Model\n",
            "\n",
            "        res_train.shape = (41, 8); res_test.shape = (11, 8)\n",
            "\n",
            "        X_train.shape = (34, 7); y_train.shape = (34, 1)\n",
            "\n",
            "        34 = 41 - 7[q]\n",
            "\n",
            "        X_test.shape = (11, 7)\n",
            "The RMSE is : 0.03718574869751802 , Value of q :  7\n",
            "MA(8) Model\n",
            "\n",
            "        res_train.shape = (41, 9); res_test.shape = (11, 9)\n",
            "\n",
            "        X_train.shape = (33, 8); y_train.shape = (33, 1)\n",
            "\n",
            "        33 = 41 - 8[q]\n",
            "\n",
            "        X_test.shape = (11, 8)\n",
            "The RMSE is : 0.037286951086643504 , Value of q :  8\n",
            "MA(9) Model\n",
            "\n",
            "        res_train.shape = (41, 10); res_test.shape = (11, 10)\n",
            "\n",
            "        X_train.shape = (32, 9); y_train.shape = (32, 1)\n",
            "\n",
            "        32 = 41 - 9[q]\n",
            "\n",
            "        X_test.shape = (11, 9)\n",
            "The RMSE is : 0.038078751114832825 , Value of q :  9\n",
            "MA(10) Model\n",
            "\n",
            "        res_train.shape = (41, 11); res_test.shape = (11, 11)\n",
            "\n",
            "        X_train.shape = (31, 10); y_train.shape = (31, 1)\n",
            "\n",
            "        31 = 41 - 10[q]\n",
            "\n",
            "        X_test.shape = (11, 10)\n",
            "The RMSE is : 0.03736485660629247 , Value of q :  10\n",
            "MA(11) Model\n",
            "\n",
            "        res_train.shape = (41, 12); res_test.shape = (11, 12)\n",
            "\n",
            "        X_train.shape = (30, 11); y_train.shape = (30, 1)\n",
            "\n",
            "        30 = 41 - 11[q]\n",
            "\n",
            "        X_test.shape = (11, 11)\n",
            "The RMSE is : 0.037903042892427484 , Value of q :  11\n",
            "MA(12) Model\n",
            "\n",
            "        res_train.shape = (41, 13); res_test.shape = (11, 13)\n",
            "\n",
            "        X_train.shape = (29, 12); y_train.shape = (29, 1)\n",
            "\n",
            "        29 = 41 - 12[q]\n",
            "\n",
            "        X_test.shape = (11, 12)\n",
            "The RMSE is : 0.04337445915271738 , Value of q :  12\n",
            "1\n"
          ],
          "name": "stdout"
        }
      ]
    },
    {
      "cell_type": "code",
      "metadata": {
        "id": "WiUtlN6jWZLm",
        "colab": {
          "base_uri": "https://localhost:8080/"
        },
        "outputId": "8a776e6c-be33-451b-e1f4-e41173b6e4c2"
      },
      "source": [
        "[res_train,res_test,theta,intercept,RMSE] = MA(best_q,pd.DataFrame(res.Residuals))\n",
        "print(theta)\n",
        "print(intercept)"
      ],
      "execution_count": null,
      "outputs": [
        {
          "output_type": "stream",
          "text": [
            "MA(1) Model\n",
            "\n",
            "        res_train.shape = (41, 2); res_test.shape = (11, 2)\n",
            "\n",
            "        X_train.shape = (40, 1); y_train.shape = (40, 1)\n",
            "\n",
            "        40 = 41 - 1[q]\n",
            "\n",
            "        X_test.shape = (11, 1)\n",
            "The RMSE is : 0.031984021565677506 , Value of q :  1\n",
            "[[0.09510917]]\n",
            "[-0.00053678]\n"
          ],
          "name": "stdout"
        }
      ]
    },
    {
      "cell_type": "code",
      "metadata": {
        "id": "gELwAsboWe8a"
      },
      "source": [
        "res_c = pd.concat([res_train,res_test])"
      ],
      "execution_count": null,
      "outputs": []
    },
    {
      "cell_type": "code",
      "metadata": {
        "id": "hwl_xOmlWkae",
        "colab": {
          "base_uri": "https://localhost:8080/",
          "height": 237
        },
        "outputId": "2f947272-5e3b-4659-8d55-ad1098ebc112"
      },
      "source": [
        "res_c.head()"
      ],
      "execution_count": null,
      "outputs": [
        {
          "output_type": "execute_result",
          "data": {
            "text/html": [
              "<div>\n",
              "<style scoped>\n",
              "    .dataframe tbody tr th:only-of-type {\n",
              "        vertical-align: middle;\n",
              "    }\n",
              "\n",
              "    .dataframe tbody tr th {\n",
              "        vertical-align: top;\n",
              "    }\n",
              "\n",
              "    .dataframe thead th {\n",
              "        text-align: right;\n",
              "    }\n",
              "</style>\n",
              "<table border=\"1\" class=\"dataframe\">\n",
              "  <thead>\n",
              "    <tr style=\"text-align: right;\">\n",
              "      <th></th>\n",
              "      <th>Residuals</th>\n",
              "      <th>Shifted_values_1</th>\n",
              "      <th>Predicted_Values</th>\n",
              "    </tr>\n",
              "    <tr>\n",
              "      <th>date</th>\n",
              "      <th></th>\n",
              "      <th></th>\n",
              "      <th></th>\n",
              "    </tr>\n",
              "  </thead>\n",
              "  <tbody>\n",
              "    <tr>\n",
              "      <th>1994-10-01</th>\n",
              "      <td>-0.031686</td>\n",
              "      <td>0.009048</td>\n",
              "      <td>0.000324</td>\n",
              "    </tr>\n",
              "    <tr>\n",
              "      <th>1994-11-01</th>\n",
              "      <td>0.022175</td>\n",
              "      <td>-0.031686</td>\n",
              "      <td>-0.003550</td>\n",
              "    </tr>\n",
              "    <tr>\n",
              "      <th>1994-12-01</th>\n",
              "      <td>-0.016185</td>\n",
              "      <td>0.022175</td>\n",
              "      <td>0.001572</td>\n",
              "    </tr>\n",
              "    <tr>\n",
              "      <th>1995-01-01</th>\n",
              "      <td>0.029131</td>\n",
              "      <td>-0.016185</td>\n",
              "      <td>-0.002076</td>\n",
              "    </tr>\n",
              "    <tr>\n",
              "      <th>1995-02-01</th>\n",
              "      <td>-0.030341</td>\n",
              "      <td>0.029131</td>\n",
              "      <td>0.002234</td>\n",
              "    </tr>\n",
              "  </tbody>\n",
              "</table>\n",
              "</div>"
            ],
            "text/plain": [
              "            Residuals  Shifted_values_1  Predicted_Values\n",
              "date                                                     \n",
              "1994-10-01  -0.031686          0.009048          0.000324\n",
              "1994-11-01   0.022175         -0.031686         -0.003550\n",
              "1994-12-01  -0.016185          0.022175          0.001572\n",
              "1995-01-01   0.029131         -0.016185         -0.002076\n",
              "1995-02-01  -0.030341          0.029131          0.002234"
            ]
          },
          "metadata": {
            "tags": []
          },
          "execution_count": 75
        }
      ]
    },
    {
      "cell_type": "code",
      "metadata": {
        "id": "ST62jx93W8zo"
      },
      "source": [
        "df_c.Predicted_Values += res_c.Predicted_Values"
      ],
      "execution_count": null,
      "outputs": []
    },
    {
      "cell_type": "code",
      "metadata": {
        "id": "DhkqtT0lXDUt",
        "colab": {
          "base_uri": "https://localhost:8080/",
          "height": 296
        },
        "outputId": "ab4ff587-854e-4560-9aac-351b29a16968"
      },
      "source": [
        "df_c[['Value','Predicted_Values']].plot()"
      ],
      "execution_count": null,
      "outputs": [
        {
          "output_type": "execute_result",
          "data": {
            "text/plain": [
              "<matplotlib.axes._subplots.AxesSubplot at 0x7f48df6a39d0>"
            ]
          },
          "metadata": {
            "tags": []
          },
          "execution_count": 77
        },
        {
          "output_type": "display_data",
          "data": {
            "image/png": "[encoded data removed]",
            "text/plain": [
              "<Figure size 432x288 with 1 Axes>"
            ]
          },
          "metadata": {
            "tags": [],
            "needs_background": "light"
          }
        }
      ]
    },
    {
      "cell_type": "markdown",
      "metadata": {
        "id": "CJ5YrK68XUbm"
      },
      "source": [
        "# Step 4 : Getting Back Original data"
      ]
    },
    {
      "cell_type": "markdown",
      "metadata": {
        "id": "z6A6Sqq3NJbP"
      },
      "source": [
        "Reversing the steps performed for differencing, as a check the first column (Value) must be the same after reversing the steps."
      ]
    },
    {
      "cell_type": "code",
      "metadata": {
        "colab": {
          "base_uri": "https://localhost:8080/"
        },
        "id": "SCHgdxE_HKnk",
        "outputId": "bfa2b6bf-21fc-42c2-e220-10e28a13e63e"
      },
      "source": [
        "df_c.columns"
      ],
      "execution_count": null,
      "outputs": [
        {
          "output_type": "execute_result",
          "data": {
            "text/plain": [
              "Index(['Value', 'Shifted_values_1', 'Shifted_values_2', 'Shifted_values_3',\n",
              "       'Shifted_values_4', 'Shifted_values_5', 'Shifted_values_6',\n",
              "       'Shifted_values_7', 'Predicted_Values'],\n",
              "      dtype='object')"
            ]
          },
          "metadata": {
            "tags": []
          },
          "execution_count": 78
        }
      ]
    },
    {
      "cell_type": "code",
      "metadata": {
        "colab": {
          "base_uri": "https://localhost:8080/"
        },
        "id": "uQJGTIpWIZgT",
        "outputId": "5a074289-4025-4859-b974-b4cd50a7b424"
      },
      "source": [
        "print(df_c.shape)\n",
        "print(df.shape)"
      ],
      "execution_count": null,
      "outputs": [
        {
          "output_type": "stream",
          "text": [
            "(52, 9)\n",
            "(72, 1)\n"
          ],
          "name": "stdout"
        }
      ]
    },
    {
      "cell_type": "markdown",
      "metadata": {
        "id": "YfMCImHtvH5H"
      },
      "source": [
        "$$(1-B^{12})(1-B)\\log{y_t} = x_t$$\n",
        "$$(1 - B - B^{12} + B^{13})\\log{y_t} = x_t$$\n",
        "$$\\log{y_t} - B\\log{y_t} - B^{12}\\log{y_t} + B^{13}\\log{y_t} = x_t$$\n",
        "$$\\log{y_t} = x_t + B\\log{y_t} + B^{12}(1-B)\\log{y_t}$$\n",
        "$$y_t = \\exp(x_t + B\\log{y_t} + B^{12}(1-B)\\log{y_t})$$\n",
        "$$y_t = \\exp(x_t + B\\log{y_t} + B^{12}\\nabla  \\log{y_t})$$"
      ]
    },
    {
      "cell_type": "code",
      "metadata": {
        "id": "wB6KV_dzXZgf"
      },
      "source": [
        "df_c.Value += np.log(df).shift(1).Value\n",
        "df_c.Value += np.log(df).diff().shift(12).Value\n",
        "df_c.Predicted_Values += np.log(df).shift(1).Value \n",
        "df_c.Predicted_Values += np.log(df).diff().shift(12).Value\n",
        "df_c.Value = np.exp(df_c.Value)\n",
        "df_c.Predicted_Values = np.exp(df_c.Predicted_Values)"
      ],
      "execution_count": null,
      "outputs": []
    },
    {
      "cell_type": "code",
      "metadata": {
        "id": "lovzLQquXmVb",
        "colab": {
          "base_uri": "https://localhost:8080/",
          "height": 257
        },
        "outputId": "81bcd219-5432-48f5-8bcf-97d7892d6828"
      },
      "source": [
        "df_c.head()"
      ],
      "execution_count": null,
      "outputs": [
        {
          "output_type": "execute_result",
          "data": {
            "text/html": [
              "<div>\n",
              "<style scoped>\n",
              "    .dataframe tbody tr th:only-of-type {\n",
              "        vertical-align: middle;\n",
              "    }\n",
              "\n",
              "    .dataframe tbody tr th {\n",
              "        vertical-align: top;\n",
              "    }\n",
              "\n",
              "    .dataframe thead th {\n",
              "        text-align: right;\n",
              "    }\n",
              "</style>\n",
              "<table border=\"1\" class=\"dataframe\">\n",
              "  <thead>\n",
              "    <tr style=\"text-align: right;\">\n",
              "      <th></th>\n",
              "      <th>Value</th>\n",
              "      <th>Shifted_values_1</th>\n",
              "      <th>Shifted_values_2</th>\n",
              "      <th>Shifted_values_3</th>\n",
              "      <th>Shifted_values_4</th>\n",
              "      <th>Shifted_values_5</th>\n",
              "      <th>Shifted_values_6</th>\n",
              "      <th>Shifted_values_7</th>\n",
              "      <th>Predicted_Values</th>\n",
              "    </tr>\n",
              "    <tr>\n",
              "      <th>date</th>\n",
              "      <th></th>\n",
              "      <th></th>\n",
              "      <th></th>\n",
              "      <th></th>\n",
              "      <th></th>\n",
              "      <th></th>\n",
              "      <th></th>\n",
              "      <th></th>\n",
              "      <th></th>\n",
              "    </tr>\n",
              "  </thead>\n",
              "  <tbody>\n",
              "    <tr>\n",
              "      <th>1994-09-01</th>\n",
              "      <td>4.647984e+07</td>\n",
              "      <td>-0.128964</td>\n",
              "      <td>-0.325125</td>\n",
              "      <td>-0.090902</td>\n",
              "      <td>-0.352188</td>\n",
              "      <td>-0.441680</td>\n",
              "      <td>-0.372616</td>\n",
              "      <td>-1.665408</td>\n",
              "      <td>NaN</td>\n",
              "    </tr>\n",
              "    <tr>\n",
              "      <th>1994-10-01</th>\n",
              "      <td>4.661549e+07</td>\n",
              "      <td>-0.043756</td>\n",
              "      <td>-0.128964</td>\n",
              "      <td>-0.325125</td>\n",
              "      <td>-0.090902</td>\n",
              "      <td>-0.352188</td>\n",
              "      <td>-0.441680</td>\n",
              "      <td>-0.372616</td>\n",
              "      <td>4.813179e+07</td>\n",
              "    </tr>\n",
              "    <tr>\n",
              "      <th>1994-11-01</th>\n",
              "      <td>4.759123e+07</td>\n",
              "      <td>-0.159458</td>\n",
              "      <td>-0.043756</td>\n",
              "      <td>-0.128964</td>\n",
              "      <td>-0.325125</td>\n",
              "      <td>-0.090902</td>\n",
              "      <td>-0.352188</td>\n",
              "      <td>-0.441680</td>\n",
              "      <td>4.638252e+07</td>\n",
              "    </tr>\n",
              "    <tr>\n",
              "      <th>1994-12-01</th>\n",
              "      <td>6.190363e+07</td>\n",
              "      <td>-0.013330</td>\n",
              "      <td>-0.159458</td>\n",
              "      <td>-0.043756</td>\n",
              "      <td>-0.128964</td>\n",
              "      <td>-0.325125</td>\n",
              "      <td>-0.090902</td>\n",
              "      <td>-0.352188</td>\n",
              "      <td>6.301268e+07</td>\n",
              "    </tr>\n",
              "    <tr>\n",
              "      <th>1995-01-01</th>\n",
              "      <td>6.624558e+07</td>\n",
              "      <td>-0.080443</td>\n",
              "      <td>-0.013330</td>\n",
              "      <td>-0.159458</td>\n",
              "      <td>-0.043756</td>\n",
              "      <td>-0.128964</td>\n",
              "      <td>-0.325125</td>\n",
              "      <td>-0.090902</td>\n",
              "      <td>6.421018e+07</td>\n",
              "    </tr>\n",
              "  </tbody>\n",
              "</table>\n",
              "</div>"
            ],
            "text/plain": [
              "                   Value  Shifted_values_1  ...  Shifted_values_7  Predicted_Values\n",
              "date                                        ...                                    \n",
              "1994-09-01  4.647984e+07         -0.128964  ...         -1.665408               NaN\n",
              "1994-10-01  4.661549e+07         -0.043756  ...         -0.372616      4.813179e+07\n",
              "1994-11-01  4.759123e+07         -0.159458  ...         -0.441680      4.638252e+07\n",
              "1994-12-01  6.190363e+07         -0.013330  ...         -0.352188      6.301268e+07\n",
              "1995-01-01  6.624558e+07         -0.080443  ...         -0.090902      6.421018e+07\n",
              "\n",
              "[5 rows x 9 columns]"
            ]
          },
          "metadata": {
            "tags": []
          },
          "execution_count": 82
        }
      ]
    },
    {
      "cell_type": "code",
      "metadata": {
        "id": "BTEjyAThYl8b",
        "colab": {
          "base_uri": "https://localhost:8080/",
          "height": 319
        },
        "outputId": "dd361a1d-e28a-4da1-8a44-1adfc5d7d78f"
      },
      "source": [
        "df_c.iloc[30:,:][['Value','Predicted_Values']].plot()"
      ],
      "execution_count": null,
      "outputs": [
        {
          "output_type": "execute_result",
          "data": {
            "text/plain": [
              "<matplotlib.axes._subplots.AxesSubplot at 0x7f48df5dfcd0>"
            ]
          },
          "metadata": {
            "tags": []
          },
          "execution_count": 83
        },
        {
          "output_type": "display_data",
          "data": {
            "image/png": "[encoded data removed]",
            "text/plain": [
              "<Figure size 432x288 with 1 Axes>"
            ]
          },
          "metadata": {
            "tags": [],
            "needs_background": "light"
          }
        }
      ]
    }
  ]
}